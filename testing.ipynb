{
 "cells": [
  {
   "cell_type": "code",
   "execution_count": 3,
   "metadata": {},
   "outputs": [
    {
     "data": {
      "text/plain": [
       "387"
      ]
     },
     "execution_count": 3,
     "metadata": {},
     "output_type": "execute_result"
    }
   ],
   "source": [
    "text = \"[0.00 - 0.10] [speaker_2] :  - You mentioned from personal experience, being aware of the dark side of anabolic use. What is that? \\\n",
    "            [0.09 - 1.01] [speaker_1] :  How long do you have anxiety like you would not believe? Every day that I'm on high doses, I wake up in the morning afraid of the rest of my day. Intrusive thoughts. I think about violence all the time. Well, if your testosterone is 25 times what it's supposed to be, what the hell do you think it's going to make you think about? Another one is a marked proximate reduction of IQ. Like right now, as I talk to you, I'm on contest prop. I'm on a considerable dose of anabolics. I'm not as smart right now and I can feel it. It's this awe, an inability to perceive a broad spectrum of positive human emotion. I live in a really beautiful area in Michigan and I walk out and there's a pond and these trees and I know that I like looking at them, but it's memory to me. I go work out every morning and I look at the pond and the trees and I'm like, like all I feel is rage and frustration and anger and anxiety. That's my daily life.\\\n",
    "            [1.00 - 2.00] [speaker_0] :  Welcome to another episode of the Checkup Podcast with Dr. Mike. Today, I, Dr. Mike, am excited to welcome Dr. Mike to the Checkup Podcast with Dr. Mike. No, I'm not inviting myself onto my own show. I'm talking about Dr. Mike Israetel, a popular YouTube educator, but also someone who holds a PhD in sports physiology. Whether you're looking to start putting on muscle, restarting a forgotten regimen, understanding the impact of mental health on your fitness journey, or uncovering the harsh realities of steroid use, this conversation covers that and so much more. We got into some topics I truly didn't expect to address, but found extremely interesting, including the fact that he believes AI and gene therapy will get us to the point where exercise becomes completely useless. What? Bottom line, get ready to get re-energized and educated on how to pack on muscle and why it's actually crucial for your health to do so. Please welcome the other Dr. Mike to the Checkup Podcast.\"\n",
    "\n",
    "word_count = len(text.split())\n",
    "word_count"
   ]
  },
  {
   "cell_type": "code",
   "execution_count": 2,
   "metadata": {},
   "outputs": [
    {
     "data": {
      "text/plain": [
       "6"
      ]
     },
     "execution_count": 2,
     "metadata": {},
     "output_type": "execute_result"
    }
   ],
   "source": [
    "text = \"Hello!\"\n",
    "\n",
    "len(text)"
   ]
  },
  {
   "cell_type": "code",
   "execution_count": 9,
   "metadata": {},
   "outputs": [
    {
     "data": {
      "text/plain": [
       "2"
      ]
     },
     "execution_count": 9,
     "metadata": {},
     "output_type": "execute_result"
    }
   ],
   "source": [
    "word_count = 1001\n",
    "max_word = 1000\n",
    "\n",
    "word_count//max_word + 1"
   ]
  },
  {
   "cell_type": "code",
   "execution_count": 10,
   "metadata": {},
   "outputs": [
    {
     "data": {
      "text/plain": [
       "['I love', 'coding SO', 'SO SO', 'MUCH']"
      ]
     },
     "execution_count": 10,
     "metadata": {},
     "output_type": "execute_result"
    }
   ],
   "source": [
    "def chunk_message_brute(text, max_length = 2):\n",
    "    \n",
    "    words = text.split()  # Split the text into words\n",
    "    chunks = [\" \".join(words[i:i+max_length]) for i in range(0, len(words), max_length)]\n",
    "    return chunks\n",
    "\n",
    "text = \"I love coding SO SO SO MUCH\"\n",
    "\n",
    "chunk_message_brute(text)\n"
   ]
  },
  {
   "cell_type": "code",
   "execution_count": 14,
   "metadata": {},
   "outputs": [
    {
     "data": {
      "text/plain": [
       "10072"
      ]
     },
     "execution_count": 14,
     "metadata": {},
     "output_type": "execute_result"
    }
   ],
   "source": [
    "txt_files = [\"examples/MIT_Transcript_1.txt\", \"examples/MIT_Transcript_2.txt\"]\n",
    "final_str = \"\"\n",
    "\n",
    "for txt_file in txt_files:\n",
    "    with open(txt_file, \"r\") as file:\n",
    "        content = file.read()\n",
    "    final_str+=content\n",
    "    \n",
    "len(final_str.split())\n"
   ]
  },
  {
   "cell_type": "code",
   "execution_count": null,
   "metadata": {},
   "outputs": [],
   "source": []
  }
 ],
 "metadata": {
  "kernelspec": {
   "display_name": "venv",
   "language": "python",
   "name": "python3"
  },
  "language_info": {
   "codemirror_mode": {
    "name": "ipython",
    "version": 3
   },
   "file_extension": ".py",
   "mimetype": "text/x-python",
   "name": "python",
   "nbconvert_exporter": "python",
   "pygments_lexer": "ipython3",
   "version": "3.11.0rc1"
  }
 },
 "nbformat": 4,
 "nbformat_minor": 2
}
